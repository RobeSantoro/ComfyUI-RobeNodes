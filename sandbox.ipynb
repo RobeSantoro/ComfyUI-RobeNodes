{
 "cells": [
  {
   "cell_type": "code",
   "execution_count": 19,
   "metadata": {},
   "outputs": [],
   "source": [
    "directory = \"W:\\\\ATTRAVERSO\\\\gammaPre\\\\masks_portrait_3.4\""
   ]
  },
  {
   "cell_type": "code",
   "execution_count": null,
   "metadata": {},
   "outputs": [],
   "source": [
    "directory = \"W:\\ATTRAVERSO\\OPERE\\scrape\\images_renamed\\Selection\""
   ]
  },
  {
   "cell_type": "code",
   "execution_count": 23,
   "metadata": {},
   "outputs": [],
   "source": [
    "import os\n",
    "\n",
    "def list_videos(directory):\n",
    "    \"\"\"\n",
    "    Returns a list of video files in the specified directory.\n",
    "    \"\"\"\n",
    "    videos = []\n",
    "    video_extensions = ['.mp4', '.avi', '.mov', '.mkv']\n",
    "\n",
    "    if not os.path.exists(directory):\n",
    "        return []\n",
    "    \n",
    "    for filename in os.listdir(directory):\n",
    "        if os.path.splitext(filename)[1].lower() in video_extensions:\n",
    "            videos.append(filename)\n",
    "    \n",
    "    return videos\n",
    "\n",
    "\n",
    "def list_images(directory):\n",
    "    image_files = []\n",
    "    image_extensions = ['.jpg', '.jpeg', '.png', '.gif']\n",
    "\n",
    "    if not os.path.exists(directory):\n",
    "        return []\n",
    "    \n",
    "    for filename in os.listdir(directory):\n",
    "        if os.path.splitext(filename)[1].lower() in image_extensions:\n",
    "            image_files.append(filename)\n",
    "    \n",
    "    return image_files"
   ]
  },
  {
   "cell_type": "code",
   "execution_count": 24,
   "metadata": {},
   "outputs": [
    {
     "name": "stdout",
     "output_type": "stream",
     "text": [
      "[]\n",
      "['image_0143, Festa di San Nicola a Bari, Dipinto, Olio su tela, Sala del Novecento, Raffaele Armenise, Bari 1852, Milano 1925, Da Terra di Bari a Città Metropolitana. Im.jpg', \"image_0311, Sull'Ofanto, Dipinto, Olio su tela, Sala XVIII- Saletta dell'Ottocento, Giuseppe De Nittis, Barletta 1846, Saint Germain-enÂ\\xadLaye 1884, Passi.jpg\", \"image_0328, Paesaggio della costiera sorrentina. 'Li galli', isolotti presso Nerano, Dipinto, Olio su tela, Sala XVIII- Saletta dell'Ottocento, Antoon Sminck Pitloo, Arnhem 1790, Napoli 1833, Passioni di un collez.jpg\"]\n"
     ]
    }
   ],
   "source": [
    "videos = list_videos(directory)\n",
    "print(videos)\n",
    "\n",
    "images = list_images(directory)\n",
    "print(images)"
   ]
  }
 ],
 "metadata": {
  "kernelspec": {
   "display_name": "comfyui_robe",
   "language": "python",
   "name": "python3"
  },
  "language_info": {
   "codemirror_mode": {
    "name": "ipython",
    "version": 3
   },
   "file_extension": ".py",
   "mimetype": "text/x-python",
   "name": "python",
   "nbconvert_exporter": "python",
   "pygments_lexer": "ipython3",
   "version": "3.11.10"
  }
 },
 "nbformat": 4,
 "nbformat_minor": 2
}
